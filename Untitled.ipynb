{
 "cells": [
  {
   "cell_type": "code",
   "execution_count": 43,
   "metadata": {
    "collapsed": false
   },
   "outputs": [
    {
     "name": "stdout",
     "output_type": "stream",
     "text": [
      "[[ 0.22222222  0.          0.        ]\n",
      " [ 0.11111111  1.          0.        ]] [ 0.22222222  0.          0.        ]\n"
     ]
    },
    {
     "data": {
      "text/plain": [
       "array([], dtype=float64)"
      ]
     },
     "execution_count": 43,
     "metadata": {},
     "output_type": "execute_result"
    }
   ],
   "source": [
    "import numpy as np\n",
    "poss = np.array([[2./9., True, True], [2./9., False, False], [1./9., True, False], [4./9., False, True]]).T[:1].T\n",
    "# print(poss)\n",
    "poss = np.array([[[2./9., True, True], [2./9., False, False], [1./9., True, False], [4./9., False, True]][1], [[2./9., True, True], [2./9., False, False], [1./9., True, False], [4./9., False, True]][2]])\n",
    "print(poss, poss[0])\n",
    "COLUMNS = ['player', 'arm', 'reward', 'visibility', 'real']\n",
    "turns = [0,1,0,1]\n",
    "moves = np.zeros((1, len(COLUMNS)))\n",
    "np.array(turns[:moves.shape[0]-1])\n",
    "# print(moves.shape[0]-1)"
   ]
  },
  {
   "cell_type": "code",
   "execution_count": null,
   "metadata": {
    "collapsed": true
   },
   "outputs": [],
   "source": []
  },
  {
   "cell_type": "code",
   "execution_count": null,
   "metadata": {
    "collapsed": true
   },
   "outputs": [],
   "source": []
  }
 ],
 "metadata": {
  "kernelspec": {
   "display_name": "Python [default]",
   "language": "python",
   "name": "python3"
  },
  "language_info": {
   "codemirror_mode": {
    "name": "ipython",
    "version": 3
   },
   "file_extension": ".py",
   "mimetype": "text/x-python",
   "name": "python",
   "nbconvert_exporter": "python",
   "pygments_lexer": "ipython3",
   "version": "3.5.2"
  }
 },
 "nbformat": 4,
 "nbformat_minor": 0
}
